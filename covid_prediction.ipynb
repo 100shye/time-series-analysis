{
 "cells": [
  {
   "cell_type": "markdown",
   "metadata": {},
   "source": [
    "# 시계열 예측 공부 \n",
    "<br>시계열 예측은 과거 패턴으로 미래 패턴을 예측하는 것 <br>\n",
    "링크를 참고해서 시계열 예측모델 실습했다. <br>\n",
    "링크: https://pseudo-lab.github.io/Tutorial-Book/chapters/time-series/intro.html <br>"
   ]
  },
  {
   "cell_type": "markdown",
   "metadata": {},
   "source": [
    "### 1. 데이터 탐색\n",
    "\n",
    "<br>\n",
    "1) 빈 폴더 만들어서 오른 마우스 클릭하면 git bash here 선택 <br>\n",
    "2) 검은 창 뜨면 git clone https://github.com/Pseudo-Lab/Tutorial-Book-Utils 입력해서 파일 다운로드 <br>\n",
    "3) python Tutorial-Book-Utils/PL_data_loader.py --data COVIDTimeSeries 입력해서 데이터 다운로드 <br>\n",
    "<br>\n",
    "* time_series_covid19_confirmed_global 파일은 아래 링크에서 새로운 자료로 업데이터해서 받는 것 가능 <br>\n",
    "https://data.humdata.org/dataset/novel-coronavirus-2019-ncov-cases/resource/00fa0e37-961b-4767-a5ce-e7ab4e2c921c\n",
    "\n",
    "\n"
   ]
  },
  {
   "cell_type": "code",
   "execution_count": 1,
   "metadata": {
    "scrolled": false
   },
   "outputs": [
    {
     "data": {
      "text/html": [
       "<div>\n",
       "<style scoped>\n",
       "    .dataframe tbody tr th:only-of-type {\n",
       "        vertical-align: middle;\n",
       "    }\n",
       "\n",
       "    .dataframe tbody tr th {\n",
       "        vertical-align: top;\n",
       "    }\n",
       "\n",
       "    .dataframe thead th {\n",
       "        text-align: right;\n",
       "    }\n",
       "</style>\n",
       "<table border=\"1\" class=\"dataframe\">\n",
       "  <thead>\n",
       "    <tr style=\"text-align: right;\">\n",
       "      <th></th>\n",
       "      <th>Province/State</th>\n",
       "      <th>Country/Region</th>\n",
       "      <th>Lat</th>\n",
       "      <th>Long</th>\n",
       "      <th>1/22/20</th>\n",
       "      <th>1/23/20</th>\n",
       "      <th>1/24/20</th>\n",
       "      <th>1/25/20</th>\n",
       "      <th>1/26/20</th>\n",
       "      <th>1/27/20</th>\n",
       "      <th>...</th>\n",
       "      <th>12/22/21</th>\n",
       "      <th>12/23/21</th>\n",
       "      <th>12/24/21</th>\n",
       "      <th>12/25/21</th>\n",
       "      <th>12/26/21</th>\n",
       "      <th>12/27/21</th>\n",
       "      <th>12/28/21</th>\n",
       "      <th>12/29/21</th>\n",
       "      <th>12/30/21</th>\n",
       "      <th>12/31/21</th>\n",
       "    </tr>\n",
       "  </thead>\n",
       "  <tbody>\n",
       "    <tr>\n",
       "      <th>0</th>\n",
       "      <td>NaN</td>\n",
       "      <td>Afghanistan</td>\n",
       "      <td>33.93911</td>\n",
       "      <td>67.709953</td>\n",
       "      <td>0</td>\n",
       "      <td>0</td>\n",
       "      <td>0</td>\n",
       "      <td>0</td>\n",
       "      <td>0</td>\n",
       "      <td>0</td>\n",
       "      <td>...</td>\n",
       "      <td>157841</td>\n",
       "      <td>157878</td>\n",
       "      <td>157887</td>\n",
       "      <td>157895</td>\n",
       "      <td>157951</td>\n",
       "      <td>157967</td>\n",
       "      <td>157998</td>\n",
       "      <td>158037</td>\n",
       "      <td>158056</td>\n",
       "      <td>158084</td>\n",
       "    </tr>\n",
       "    <tr>\n",
       "      <th>1</th>\n",
       "      <td>NaN</td>\n",
       "      <td>Albania</td>\n",
       "      <td>41.15330</td>\n",
       "      <td>20.168300</td>\n",
       "      <td>0</td>\n",
       "      <td>0</td>\n",
       "      <td>0</td>\n",
       "      <td>0</td>\n",
       "      <td>0</td>\n",
       "      <td>0</td>\n",
       "      <td>...</td>\n",
       "      <td>206616</td>\n",
       "      <td>206935</td>\n",
       "      <td>207221</td>\n",
       "      <td>207542</td>\n",
       "      <td>207709</td>\n",
       "      <td>207709</td>\n",
       "      <td>208352</td>\n",
       "      <td>208899</td>\n",
       "      <td>208899</td>\n",
       "      <td>210224</td>\n",
       "    </tr>\n",
       "    <tr>\n",
       "      <th>2</th>\n",
       "      <td>NaN</td>\n",
       "      <td>Algeria</td>\n",
       "      <td>28.03390</td>\n",
       "      <td>1.659600</td>\n",
       "      <td>0</td>\n",
       "      <td>0</td>\n",
       "      <td>0</td>\n",
       "      <td>0</td>\n",
       "      <td>0</td>\n",
       "      <td>0</td>\n",
       "      <td>...</td>\n",
       "      <td>215430</td>\n",
       "      <td>215723</td>\n",
       "      <td>216098</td>\n",
       "      <td>216376</td>\n",
       "      <td>216637</td>\n",
       "      <td>216930</td>\n",
       "      <td>217265</td>\n",
       "      <td>217647</td>\n",
       "      <td>218037</td>\n",
       "      <td>218432</td>\n",
       "    </tr>\n",
       "    <tr>\n",
       "      <th>3</th>\n",
       "      <td>NaN</td>\n",
       "      <td>Andorra</td>\n",
       "      <td>42.50630</td>\n",
       "      <td>1.521800</td>\n",
       "      <td>0</td>\n",
       "      <td>0</td>\n",
       "      <td>0</td>\n",
       "      <td>0</td>\n",
       "      <td>0</td>\n",
       "      <td>0</td>\n",
       "      <td>...</td>\n",
       "      <td>21372</td>\n",
       "      <td>21571</td>\n",
       "      <td>21730</td>\n",
       "      <td>21730</td>\n",
       "      <td>21730</td>\n",
       "      <td>22332</td>\n",
       "      <td>22540</td>\n",
       "      <td>22823</td>\n",
       "      <td>23122</td>\n",
       "      <td>23740</td>\n",
       "    </tr>\n",
       "    <tr>\n",
       "      <th>4</th>\n",
       "      <td>NaN</td>\n",
       "      <td>Angola</td>\n",
       "      <td>-11.20270</td>\n",
       "      <td>17.873900</td>\n",
       "      <td>0</td>\n",
       "      <td>0</td>\n",
       "      <td>0</td>\n",
       "      <td>0</td>\n",
       "      <td>0</td>\n",
       "      <td>0</td>\n",
       "      <td>...</td>\n",
       "      <td>67199</td>\n",
       "      <td>68362</td>\n",
       "      <td>70221</td>\n",
       "      <td>71142</td>\n",
       "      <td>71752</td>\n",
       "      <td>71752</td>\n",
       "      <td>76787</td>\n",
       "      <td>78475</td>\n",
       "      <td>79871</td>\n",
       "      <td>81593</td>\n",
       "    </tr>\n",
       "  </tbody>\n",
       "</table>\n",
       "<p>5 rows × 714 columns</p>\n",
       "</div>"
      ],
      "text/plain": [
       "  Province/State Country/Region       Lat       Long  1/22/20  1/23/20  \\\n",
       "0            NaN    Afghanistan  33.93911  67.709953        0        0   \n",
       "1            NaN        Albania  41.15330  20.168300        0        0   \n",
       "2            NaN        Algeria  28.03390   1.659600        0        0   \n",
       "3            NaN        Andorra  42.50630   1.521800        0        0   \n",
       "4            NaN         Angola -11.20270  17.873900        0        0   \n",
       "\n",
       "   1/24/20  1/25/20  1/26/20  1/27/20  ...  12/22/21  12/23/21  12/24/21  \\\n",
       "0        0        0        0        0  ...    157841    157878    157887   \n",
       "1        0        0        0        0  ...    206616    206935    207221   \n",
       "2        0        0        0        0  ...    215430    215723    216098   \n",
       "3        0        0        0        0  ...     21372     21571     21730   \n",
       "4        0        0        0        0  ...     67199     68362     70221   \n",
       "\n",
       "   12/25/21  12/26/21  12/27/21  12/28/21  12/29/21  12/30/21  12/31/21  \n",
       "0    157895    157951    157967    157998    158037    158056    158084  \n",
       "1    207542    207709    207709    208352    208899    208899    210224  \n",
       "2    216376    216637    216930    217265    217647    218037    218432  \n",
       "3     21730     21730     22332     22540     22823     23122     23740  \n",
       "4     71142     71752     71752     76787     78475     79871     81593  \n",
       "\n",
       "[5 rows x 714 columns]"
      ]
     },
     "execution_count": 1,
     "metadata": {},
     "output_type": "execute_result"
    }
   ],
   "source": [
    "import pandas as pd\n",
    "path = './covid_data/'\n",
    "all = pd.read_csv(path + 'covid_19_data.csv')\n",
    "confirmed = pd.read_csv(path + 'time_series_covid19_confirmed_global.csv')\n",
    "confirmed.head()"
   ]
  },
  {
   "cell_type": "markdown",
   "metadata": {},
   "source": [
    "#### confirmed data에서 한국 데이터만 뽑아서 날짜별 확진률 그래프 그리기\n"
   ]
  },
  {
   "cell_type": "code",
   "execution_count": 2,
   "metadata": {},
   "outputs": [],
   "source": [
    "import datetime\n",
    "\n",
    "confirmed['Country/Region'].unique() # 한국 이름 찾기\n",
    "kor = confirmed[confirmed['Country/Region'] == 'Korea, South' ]\n",
    "kor = kor.T  # 행렬 바꿈\n",
    "kor = kor[4:]  # 윗단 필요없는데이터 제거\n"
   ]
  },
  {
   "cell_type": "code",
   "execution_count": 3,
   "metadata": {
    "scrolled": false
   },
   "outputs": [],
   "source": [
    "# 엑셀이 자기 마음대로 날짜 형식을 잘못 인지해서 변경 이상하게 한다. 01을 2001이라고 되어 있음. 이거 한번에 고치는 법 없나?\n",
    "v = []\n",
    "for i in kor.index:\n",
    "    r = i.replace('200', '')   # 01, 02.... 09 월 날짜 변경\n",
    "    r = r.replace('2010', '10') # 10월 날짜 변경\n",
    "    r = r.replace('2011', '11') # 11월 날짜 변경\n",
    "    r = r.replace('2012', '12') # 12월 날짜 변경\n",
    "    v.append(r)\n",
    "kor.index = v\n",
    "kor.index = pd.to_datetime(kor.index)  # to_datetime으로 str -> 날짜 형식으로 변환"
   ]
  },
  {
   "cell_type": "code",
   "execution_count": 4,
   "metadata": {},
   "outputs": [
    {
     "data": {
      "text/plain": [
       "[<matplotlib.lines.Line2D at 0x2d5279fe3c8>]"
      ]
     },
     "execution_count": 4,
     "metadata": {},
     "output_type": "execute_result"
    },
    {
     "data": {
      "image/png": "[encoded data removed]",
      "text/plain": [
       "<Figure size 576x360 with 1 Axes>"
      ]
     },
     "metadata": {
      "needs_background": "light"
     },
     "output_type": "display_data"
    }
   ],
   "source": [
    "\n",
    "import matplotlib.pyplot as plt\n",
    "\n",
    "fig, ax = plt.subplots(figsize = (8, 5))\n",
    "plt.plot( kor.index, kor)"
   ]
  },
  {
   "cell_type": "code",
   "execution_count": 5,
   "metadata": {},
   "outputs": [
    {
     "data": {
      "image/png": "[encoded data removed]",
      "text/plain": [
       "<Figure size 576x432 with 1 Axes>"
      ]
     },
     "metadata": {
      "needs_background": "light"
     },
     "output_type": "display_data"
    }
   ],
   "source": [
    "kor.diff() # 후단 데이터에서 이전 데이터 값을 빼줌\n",
    "kor_daily = kor.diff().fillna(kor.iloc[0]) # diff를 적용하고 결측치는 첫줄에만 생기니까 결측치를 data첫줄 값으로 채움\n",
    "kor_daily = kor_daily.astype('int')  # 데이터의 형식이 다른경우 int로 변환가능\n",
    "ax, fig = plt.subplots(figsize = (8, 6))\n",
    "plt.plot(kor_daily)\n",
    "plt.xlabel('date')\n",
    "plt.ylabel('daily case')\n",
    "plt.show()"
   ]
  },
  {
   "cell_type": "markdown",
   "metadata": {},
   "source": [
    "#### 2. 데이터 전처리 <br>\n",
    "t-k 부터 t-1 까지의 데이터로 t에서의 값을 예측하는 것을 one step prediction이라고 한다. <br>\n",
    "시계열 데이터를 입력데이터/ 타켓데이터로 나눠보자. <br>\n",
    "\n",
    " - 링크에서는 k를 5로 했음.\n",
    " - kor_daily 데이터를 사용. 전체 샘플갯수 710개"
   ]
  },
  {
   "cell_type": "code",
   "execution_count": 79,
   "metadata": {},
   "outputs": [
    {
     "data": {
      "text/plain": [
       "array([[[1],\n",
       "        [0],\n",
       "        [1],\n",
       "        [0],\n",
       "        [1]]])"
      ]
     },
     "execution_count": 79,
     "metadata": {},
     "output_type": "execute_result"
    }
   ],
   "source": [
    "import numpy as np\n",
    "test = []\n",
    "test.append(kor_daily[0:5].values)\n",
    "np.array(test)"
   ]
  },
  {
   "cell_type": "code",
   "execution_count": 80,
   "metadata": {},
   "outputs": [],
   "source": [
    "import numpy as np\n",
    "\n",
    "def create_sequences(data, seq_length):\n",
    "    xs = []\n",
    "    ys = []\n",
    "    for i in range(len(data)-seq_length):    # 710 - 5  에서\n",
    "        x = data.iloc[i:(i+seq_length)].values     # [0: 0+5], [1: 6], [2:7].....\n",
    "        y = data.iloc[i+seq_length].values         #[5], [6], [7], []...\n",
    "        xs.append(x)\n",
    "        ys.append(y)\n",
    "    return np.array(xs), np.array(ys)\n",
    "\n",
    "seq_length = 5\n",
    "X, y = create_sequences(kor_daily, seq_length)"
   ]
  },
  {
   "cell_type": "code",
   "execution_count": 81,
   "metadata": {
    "scrolled": true
   },
   "outputs": [
    {
     "data": {
      "text/plain": [
       "((705, 5, 1), (705, 1))"
      ]
     },
     "execution_count": 81,
     "metadata": {},
     "output_type": "execute_result"
    }
   ],
   "source": [
    "X.shape, y.shape"
   ]
  },
  {
   "cell_type": "markdown",
   "metadata": {},
   "source": [
    "#### train, test set 분리는train_test_split을 이용. <br>\n",
    "shuffle = False: 순차적으로 split <br>\n",
    "shuffle = True: 무작위로 섞어서 split <br>\n"
   ]
  },
  {
   "cell_type": "code",
   "execution_count": null,
   "metadata": {},
   "outputs": [],
   "source": []
  },
  {
   "cell_type": "code",
   "execution_count": 90,
   "metadata": {},
   "outputs": [],
   "source": [
    "from sklearn.model_selection import train_test_split\n",
    "\n",
    "xtrain_val, xtest, ytrain_val, ytest = train_test_split(X, y, test_size = 0.2)\n",
    "xtrain, xval, ytrain, yval = train_test_split(xtrain_val, ytrain_val, test_size = 0.2)"
   ]
  },
  {
   "cell_type": "code",
   "execution_count": 97,
   "metadata": {},
   "outputs": [
    {
     "name": "stdout",
     "output_type": "stream",
     "text": [
      "torch.Size([451, 5, 1]) torch.Size([113, 5, 1]) torch.Size([141, 5, 1])\n",
      "torch.Size([451, 1]) torch.Size([113, 1]) torch.Size([141, 1])\n"
     ]
    }
   ],
   "source": [
    "print(xtrain.shape, xval.shape, xtest.shape)\n",
    "print(ytrain.shape, yval.shape, ytest.shape)"
   ]
  },
  {
   "cell_type": "markdown",
   "metadata": {},
   "source": [
    "#### 3. 데이터 변환 <br>\n",
    "1) train, test 셋 각각 min max scailing <br>\n",
    " - lstm 모델을 학습 시키기 전에 데이터를 0~1사이로 스케일링 했다. <br>\n",
    " - 데이터 변형하면 사라지느 정보하 target 예측에 중요하다면 스케일링을 안하는게 낫다. 상황에 따라 다름. <br>\n",
    " - standardizing the inputs can make training faster and reduce the chances of getting stuck in local optima <br>\n",
    "\n",
    "왜 스케일링이 모델 빠르게 학습, 국소지역에서 학습 멈추는 거 막아주는지 설명: http://www.faqs.org/faqs/ai-faq/neural-nets/part2/section-16.html <br>\n",
    "\n",
    "2) torch 형태로 변환 <br>\n",
    " - array 형식의 데이터 셋을 torch형태로 변환시킴 \n",
    "\n"
   ]
  },
  {
   "cell_type": "code",
   "execution_count": 92,
   "metadata": {
    "scrolled": true
   },
   "outputs": [],
   "source": [
    "MIN = xtrain.min()\n",
    "MAX = xtrain.max()\n",
    "\n",
    "def MinMaxScale(array, min, max):\n",
    "    scaled = (array - min)/(max -min)\n",
    "    return(scaled)\n",
    "xtrain = MinMaxScale(xtrain, MIN, MAX)\n",
    "ytrain = MinMaxScale(ytrain, MIN, MAX)\n",
    "xtest = MinMaxScale(xtest, MIN, MAX)\n",
    "ytest = MinMaxScale(ytest, MIN, MAX)\n",
    "\n",
    "#Tensor 형태로 변환\n",
    "import torch\n",
    "from torch import nn, optim\n",
    "def make_Tensor(array):\n",
    "    '''\n",
    "    array 데이터를 받아서 torch 형태로 변환시키고,\n",
    "    float으로 소숫점 아랫자리를 4개로 줄여줌\n",
    "    '''\n",
    "    return torch.from_numpy(array).float()\n",
    "\n",
    "xtrain = make_Tensor(xtrain)\n",
    "ytrain = make_Tensor(ytrain)\n",
    "xval = make_Tensor(xval)\n",
    "yval = make_Tensor(yval)\n",
    "xtest = make_Tensor(xtest)\n",
    "ytest = make_Tensor(ytest)"
   ]
  },
  {
   "cell_type": "markdown",
   "metadata": {},
   "source": [
    "#### 4. LSTM 모델 구축 <br>\n",
    "1) class로 모델 구성하는 이유 <br>\n",
    " - 변수를 특정 스코프에 소속시키는 것이 가능하다. <br>\n",
    " - 재사용할 수 있다(무슨뜻?)\n",
    " - 함수를 다시 호출하는 것이 편리 <br>\n",
    " \n",
    "2) 메소드 <br>\n",
    " - class에 내장된 def들을 메소드라 부름 <br>\n",
    " \n",
    "3) __init__() 의 역할 <br>\n",
    " - 데이터를 초기화 하는 역할 <br>\n",
    " - init 앞에는 self를 제일 먼저 써준다 ex) __init__(self) <br>\n",
    " - self 옆에는 해당 class에서 사용할 인자들을 적는다. (self, var1, var2...) <br>\n",
    " \n",
    "4) self <br>\n",
    " - class 선언을 할 때는 인자에 sel를 붙여주는 것이 규칙이고, 사용할 때는 self를 안쓴다. <br>\n",
    " \n",
    "5) super <br> \n",
    " - 다른 클래스를 해당 클래스에서 사용할 때 사용함\n",
    " \n",
    "6) nn.module <br>\n",
    " - torch에서 import했음 (from torch import nn)\n",
    " - torch에서 제공하는 nn.module 클래스임.\n",
    " - 구축하려는 lstm 모델이 nn.module 클래스를 상속받았다. <br>\n",
    "class 참고: https://www.inflearn.com/questions/4642  <br>\n",
    "super 참고: https://realpython.com/python-super/#an-overview-of-pythons-super-function <br>\n",
    "nn.modeul 참고: https://wikidocs.net/60036\n"
   ]
  },
  {
   "cell_type": "markdown",
   "metadata": {},
   "source": [
    "5) super 예시 <br>\n",
    "Square 클래스는 Retangle 클래스를 받고, super 뒤에 필요한 변수인 length, width 2개 값을 length, length라고 넣어줬다.  <br>\n",
    "그래서 s.area하니까 retangle 클래스 사용 가능했다.(아래 예시 참고) <br>\n",
    "covid 예측 모델에서는 nn.module클래스에서 nn.linear와 nn.lstm 모델을 사용했다 "
   ]
  },
  {
   "cell_type": "code",
   "execution_count": 93,
   "metadata": {},
   "outputs": [],
   "source": [
    "# super 예시\n",
    "class Rectangle:\n",
    "    def __init__(self, length, width):\n",
    "        self.length = length\n",
    "        self.width = width\n",
    "\n",
    "    def area(self):\n",
    "        return self.length * self.width\n",
    "\n",
    "    def perimeter(self):\n",
    "        return 2 * self.length + 2 * self.width\n",
    "\n",
    "\n",
    "# Here we declare that the Square class inherits from the Rectangle class\n",
    "class Square(Rectangle):\n",
    "    def __init__(self, length):\n",
    "        super().__init__(length, length)"
   ]
  },
  {
   "cell_type": "code",
   "execution_count": 61,
   "metadata": {},
   "outputs": [
    {
     "data": {
      "text/plain": [
       "16"
      ]
     },
     "execution_count": 61,
     "metadata": {},
     "output_type": "execute_result"
    }
   ],
   "source": [
    "Square(length = 4).area()"
   ]
  },
  {
   "cell_type": "markdown",
   "metadata": {},
   "source": [
    "class 변수는 초기화 함수 __init__, 내부 값을 모두 zero로 만들어주는 reset_hidden_state함수, 예측에 쓰는 forward 함수로 이루어져 있따. <br>\n",
    "새로운 sequence 입력시 기존 sequence는 잊어버리려고 reset_hidden_state를 쓴다고 한다."
   ]
  },
  {
   "cell_type": "code",
   "execution_count": 94,
   "metadata": {},
   "outputs": [],
   "source": [
    "class CovidPredictor(nn.Module):\n",
    "    def __init__(self, n_features, n_hidden, seq_len, n_layers):\n",
    "        super(CovidPredictor, self).__init__()\n",
    "        self.n_hidden = n_hidden\n",
    "        self.seq_len = seq_len\n",
    "        self.n_layers = n_layers\n",
    "        self.lstm = nn.LSTM(\n",
    "            input_size=n_features,\n",
    "            hidden_size=n_hidden,\n",
    "            num_layers=n_layers\n",
    "        )\n",
    "        self.linear = nn.Linear(in_features=n_hidden, out_features=1)\n",
    "    def reset_hidden_state(self):\n",
    "        self.hidden = (\n",
    "            torch.zeros(self.n_layers, self.seq_len, self.n_hidden),\n",
    "            torch.zeros(self.n_layers, self.seq_len, self.n_hidden)\n",
    "        )\n",
    "    def forward(self, sequences):\n",
    "        lstm_out, self.hidden = self.lstm(\n",
    "            sequences.view(len(sequences), self.seq_len, -1),\n",
    "            self.hidden\n",
    "        )\n",
    "        last_time_step = lstm_out.view(self.seq_len, len(sequences), self.n_hidden)[-1]\n",
    "        y_pred = self.linear(last_time_step)\n",
    "        return y_pred"
   ]
  },
  {
   "cell_type": "code",
   "execution_count": 95,
   "metadata": {},
   "outputs": [],
   "source": [
    "def train_model(model, train_data, train_labels, val_data=None, val_labels=None, num_epochs=100, verbose = 10, patience = 10):\n",
    "    loss_fn = torch.nn.L1Loss() #\n",
    "    optimiser = torch.optim.Adam(model.parameters(), lr=0.001)\n",
    "    train_hist = []\n",
    "    val_hist = []\n",
    "    for t in range(num_epochs):\n",
    "\n",
    "        epoch_loss = 0\n",
    "\n",
    "        for idx, seq in enumerate(train_data): \n",
    "\n",
    "            model.reset_hidden_state() # seq 별 hidden state reset\n",
    "\n",
    "            # train loss\n",
    "            seq = torch.unsqueeze(seq, 0)\n",
    "            y_pred = model(seq)\n",
    "            loss = loss_fn(y_pred[0].float(), train_labels[idx]) # 1개의 step에 대한 loss\n",
    "\n",
    "            # update weights\n",
    "            optimiser.zero_grad()\n",
    "            loss.backward()\n",
    "            optimiser.step()\n",
    "\n",
    "            epoch_loss += loss.item()\n",
    "\n",
    "        train_hist.append(epoch_loss / len(train_data))\n",
    "\n",
    "        if val_data is not None:\n",
    "\n",
    "            with torch.no_grad():\n",
    "\n",
    "                val_loss = 0\n",
    "\n",
    "                for val_idx, val_seq in enumerate(val_data):\n",
    "\n",
    "                    model.reset_hidden_state() # seq 별로 hidden state 초기화 \n",
    "\n",
    "                    val_seq = torch.unsqueeze(val_seq, 0)\n",
    "                    y_val_pred = model(val_seq)\n",
    "                    val_step_loss = loss_fn(y_val_pred[0].float(), val_labels[val_idx])\n",
    "\n",
    "                    val_loss += val_step_loss\n",
    "                \n",
    "            val_hist.append(val_loss / len(val_data)) # val hist에 추가\n",
    "\n",
    "            ## verbose 번째 마다 loss 출력 \n",
    "            if t % verbose == 0:\n",
    "                print(f'Epoch {t} train loss: {epoch_loss / len(train_data)} val loss: {val_loss / len(val_data)}')\n",
    "\n",
    "            ## patience 번째 마다 early stopping 여부 확인\n",
    "            if (t % patience == 0) & (t != 0):\n",
    "                \n",
    "                ## loss가 커졌다면 early stop\n",
    "                if val_hist[t - patience] < val_hist[t] :\n",
    "\n",
    "                    print('\\n Early Stopping')\n",
    "\n",
    "                    break\n",
    "\n",
    "        elif t % verbose == 0:\n",
    "            print(f'Epoch {t} train loss: {epoch_loss / len(train_data)}')\n",
    "\n",
    "            \n",
    "    return model, train_hist, val_hist"
   ]
  },
  {
   "cell_type": "code",
   "execution_count": 96,
   "metadata": {},
   "outputs": [
    {
     "name": "stdout",
     "output_type": "stream",
     "text": [
      "Epoch 0 train loss: 0.09825805428142591 val loss: 711.4744262695312\n",
      "Epoch 10 train loss: 0.01349061727575429 val loss: 710.5325927734375\n",
      "Epoch 20 train loss: 0.013287109723394662 val loss: 710.5106201171875\n",
      "Epoch 30 train loss: 0.013171400505989509 val loss: 710.493896484375\n",
      "Epoch 40 train loss: 0.01324049536297005 val loss: 710.4891357421875\n",
      "Epoch 50 train loss: 0.013132904630805884 val loss: 710.493896484375\n",
      "Epoch 60 train loss: 0.013264178728259905 val loss: 710.4890747070312\n",
      "Epoch 70 train loss: 0.013174165573803307 val loss: 710.4837646484375\n",
      "Epoch 80 train loss: 0.013209835468598346 val loss: 710.4759521484375\n",
      "Epoch 90 train loss: 0.013236673048760911 val loss: 710.4663696289062\n"
     ]
    }
   ],
   "source": [
    "model = CovidPredictor(\n",
    "    n_features=1,\n",
    "    n_hidden=4,\n",
    "    seq_len=seq_length,\n",
    "    n_layers=1\n",
    ")\n",
    "model, train_hist, val_hist = train_model(\n",
    "    model,\n",
    "    xtrain,\n",
    "    ytrain,\n",
    "    xval,\n",
    "    yval,\n",
    "    num_epochs=100,\n",
    "    verbose=10,\n",
    "    patience=50\n",
    ")"
   ]
  },
  {
   "cell_type": "code",
   "execution_count": 98,
   "metadata": {},
   "outputs": [
    {
     "data": {
      "text/plain": [
       "<matplotlib.legend.Legend at 0x2d53135a088>"
      ]
     },
     "execution_count": 98,
     "metadata": {},
     "output_type": "execute_result"
    },
    {
     "data": {
      "image/png": "[encoded data removed]",
      "text/plain": [
       "<Figure size 432x288 with 1 Axes>"
      ]
     },
     "metadata": {
      "needs_background": "light"
     },
     "output_type": "display_data"
    }
   ],
   "source": [
    "plt.plot(train_hist, label=\"Training loss\")\n",
    "plt.plot(val_hist, label=\"Val loss\")\n",
    "plt.legend()"
   ]
  },
  {
   "cell_type": "code",
   "execution_count": 99,
   "metadata": {},
   "outputs": [
    {
     "data": {
      "text/plain": [
       "<matplotlib.legend.Legend at 0x2d5312c34c8>"
      ]
     },
     "execution_count": 99,
     "metadata": {},
     "output_type": "execute_result"
    },
    {
     "data": {
      "image/png": "[encoded data removed]",
      "text/plain": [
       "<Figure size 432x288 with 1 Axes>"
      ]
     },
     "metadata": {
      "needs_background": "light"
     },
     "output_type": "display_data"
    }
   ],
   "source": [
    "pred_dataset = xtest\n",
    "\n",
    "with torch.no_grad():\n",
    "    preds = []\n",
    "    for _ in range(len(pred_dataset)):\n",
    "        model.reset_hidden_state()\n",
    "        y_test_pred = model(torch.unsqueeze(pred_dataset[_], 0))\n",
    "        pred = torch.flatten(y_test_pred).item()\n",
    "        preds.append(pred)\n",
    "\n",
    "plt.plot(kor_daily.index[-len(ytest):], np.array(ytest) * MAX, label='True')\n",
    "plt.plot(kor_daily.index[-len(preds):], np.array(preds) * MAX, label='Pred')\n",
    "plt.xticks(rotation=45)\n",
    "plt.legend()"
   ]
  }
 ],
 "metadata": {
  "kernelspec": {
   "display_name": "Python 3",
   "language": "python",
   "name": "python3"
  },
  "language_info": {
   "codemirror_mode": {
    "name": "ipython",
    "version": 3
   },
   "file_extension": ".py",
   "mimetype": "text/x-python",
   "name": "python",
   "nbconvert_exporter": "python",
   "pygments_lexer": "ipython3",
   "version": "3.7.9"
  }
 },
 "nbformat": 4,
 "nbformat_minor": 4
}
